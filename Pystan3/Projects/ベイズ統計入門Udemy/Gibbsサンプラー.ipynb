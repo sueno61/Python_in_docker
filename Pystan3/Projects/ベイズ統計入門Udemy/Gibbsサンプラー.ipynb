{
 "cells": [
  {
   "cell_type": "code",
   "execution_count": 1,
   "metadata": {},
   "outputs": [],
   "source": [
    "import numpy as np\n",
    "from scipy.stats import norm, multivariate_normal  # 正規分布と多変量正規分布\n",
    "import pandas as pd\n",
    "import matplotlib.pyplot as plt\n",
    "\n",
    "# from IPython.html.widgets import interact\n",
    "from ipywidgets import interact\n",
    "\n",
    "%matplotlib inline"
   ]
  },
  {
   "cell_type": "code",
   "execution_count": 2,
   "metadata": {},
   "outputs": [],
   "source": [
    "plt.style.use(\"ggplot\")\n",
    "np.random.seed(123)"
   ]
  },
  {
   "cell_type": "code",
   "execution_count": 3,
   "metadata": {},
   "outputs": [],
   "source": [
    "mu = np.array([1, 2])  # それぞれの平均\n",
    "cov = np.array([[1.0, 0.7],[0.7, 1.0]])  # 分散（各1.0）、共分散（0.7）"
   ]
  },
  {
   "cell_type": "code",
   "execution_count": 4,
   "metadata": {},
   "outputs": [],
   "source": [
    "# 分布の可視化のため、\n",
    "x = np.arange(-2, 4, 0.01)\n",
    "y = np.arange(-1, 5, 0.01)\n",
    "X, Y = np.meshgrid(x,y)  # 格子座標を作成\n",
    "pos = np.zeros([X.shape[0],X.shape[1],2])  # 600,600,2\n",
    "pos[:,:,0] = X\n",
    "pos[:,:,1] = Y"
   ]
  },
  {
   "cell_type": "code",
   "execution_count": 5,
   "metadata": {},
   "outputs": [
    {
     "data": {
      "text/plain": [
       "(600, 600, 2)"
      ]
     },
     "execution_count": 5,
     "metadata": {},
     "output_type": "execute_result"
    }
   ],
   "source": [
    "pos.shape"
   ]
  },
  {
   "cell_type": "code",
   "execution_count": 9,
   "metadata": {},
   "outputs": [
    {
     "data": {
      "text/plain": [
       "(array([[-2.  , -1.99, -1.98, ...,  3.97,  3.98,  3.99],\n",
       "        [-2.  , -1.99, -1.98, ...,  3.97,  3.98,  3.99],\n",
       "        [-2.  , -1.99, -1.98, ...,  3.97,  3.98,  3.99],\n",
       "        ...,\n",
       "        [-2.  , -1.99, -1.98, ...,  3.97,  3.98,  3.99],\n",
       "        [-2.  , -1.99, -1.98, ...,  3.97,  3.98,  3.99],\n",
       "        [-2.  , -1.99, -1.98, ...,  3.97,  3.98,  3.99]]),\n",
       " array([[-1.  , -1.  , -1.  , ..., -1.  , -1.  , -1.  ],\n",
       "        [-0.99, -0.99, -0.99, ..., -0.99, -0.99, -0.99],\n",
       "        [-0.98, -0.98, -0.98, ..., -0.98, -0.98, -0.98],\n",
       "        ...,\n",
       "        [ 4.97,  4.97,  4.97, ...,  4.97,  4.97,  4.97],\n",
       "        [ 4.98,  4.98,  4.98, ...,  4.98,  4.98,  4.98],\n",
       "        [ 4.99,  4.99,  4.99, ...,  4.99,  4.99,  4.99]]))"
      ]
     },
     "execution_count": 9,
     "metadata": {},
     "output_type": "execute_result"
    }
   ],
   "source": [
    "X,Y"
   ]
  },
  {
   "cell_type": "code",
   "execution_count": null,
   "metadata": {},
   "outputs": [],
   "source": []
  },
  {
   "cell_type": "code",
   "execution_count": 19,
   "metadata": {},
   "outputs": [
    {
     "data": {
      "image/png": "[encoded data removed]",
      "text/plain": [
       "<Figure size 288x288 with 1 Axes>"
      ]
     },
     "metadata": {},
     "output_type": "display_data"
    }
   ],
   "source": [
    "rv = multivariate_normal(mu, cov)\n",
    "plt.figure(figsize=(4,4))\n",
    "plt.contour(X, Y, rv.pdf(pos), cmap=\"plasma\")\n",
    "plt.xlabel(\"$x_1$\")\n",
    "plt.ylabel(\"$x_2$\")\n",
    "plt.show();"
   ]
  },
  {
   "cell_type": "markdown",
   "metadata": {},
   "source": [
    "Gibbsサンプリング"
   ]
  },
  {
   "cell_type": "code",
   "execution_count": 20,
   "metadata": {},
   "outputs": [],
   "source": [
    "NMCS = 500\n",
    "\n",
    "sigma12 = cov[1,0]\n",
    "sigma1 = cov[0,0] ** 0.5\n",
    "sigma2 = cov[1,1] ** 0.5\n",
    "rho = sigma12 / (sigma1*sigma2)\n",
    "\n",
    "z1 = 0.0  # 初期値\n",
    "z2 = 0.0\n",
    "\n",
    "z1_mcs = [z1]  # ステップごとの状態を保存するリスト\n",
    "z2_mcs = [z2]\n",
    "\n",
    "for i in range(NMCS):\n",
    "    #f(z1|z2)\n",
    "    z1 = norm.rvs(loc=rho*z2, scale=(1-rho**2)**0.5)\n",
    "    z1_mcs.append(z1)\n",
    "    z2_mcs.append(z2)\n",
    "    #f(z2|z1)\n",
    "    z2 = norm.rvs(loc=rho*z1, scale=(1-rho**2)**0.5)\n",
    "    z1_mcs.append(z1)\n",
    "    z2_mcs.append(z2)\n",
    "\n",
    "df1 = pd.DataFrame(mu[0] + np.array(z1_mcs) * sigma1)    \n",
    "df2 = pd.DataFrame(mu[1] + np.array(z2_mcs) * sigma2)    "
   ]
  },
  {
   "cell_type": "code",
   "execution_count": 21,
   "metadata": {},
   "outputs": [
    {
     "data": {
      "text/html": [
       "<div>\n",
       "<style scoped>\n",
       "    .dataframe tbody tr th:only-of-type {\n",
       "        vertical-align: middle;\n",
       "    }\n",
       "\n",
       "    .dataframe tbody tr th {\n",
       "        vertical-align: top;\n",
       "    }\n",
       "\n",
       "    .dataframe thead th {\n",
       "        text-align: right;\n",
       "    }\n",
       "</style>\n",
       "<table border=\"1\" class=\"dataframe\">\n",
       "  <thead>\n",
       "    <tr style=\"text-align: right;\">\n",
       "      <th></th>\n",
       "      <th>0</th>\n",
       "    </tr>\n",
       "  </thead>\n",
       "  <tbody>\n",
       "    <tr>\n",
       "      <th>0</th>\n",
       "      <td>1.000000</td>\n",
       "    </tr>\n",
       "    <tr>\n",
       "      <th>1</th>\n",
       "      <td>0.224705</td>\n",
       "    </tr>\n",
       "    <tr>\n",
       "      <th>2</th>\n",
       "      <td>0.224705</td>\n",
       "    </tr>\n",
       "    <tr>\n",
       "      <th>3</th>\n",
       "      <td>1.320765</td>\n",
       "    </tr>\n",
       "    <tr>\n",
       "      <th>4</th>\n",
       "      <td>1.320765</td>\n",
       "    </tr>\n",
       "  </tbody>\n",
       "</table>\n",
       "</div>"
      ],
      "text/plain": [
       "          0\n",
       "0  1.000000\n",
       "1  0.224705\n",
       "2  0.224705\n",
       "3  1.320765\n",
       "4  1.320765"
      ]
     },
     "execution_count": 21,
     "metadata": {},
     "output_type": "execute_result"
    }
   ],
   "source": [
    "df1.head()"
   ]
  },
  {
   "cell_type": "code",
   "execution_count": null,
   "metadata": {},
   "outputs": [],
   "source": []
  },
  {
   "cell_type": "code",
   "execution_count": 26,
   "metadata": {},
   "outputs": [
    {
     "data": {
      "image/png": "[encoded data removed]",
      "text/plain": [
       "<Figure size 432x288 with 1 Axes>"
      ]
     },
     "metadata": {},
     "output_type": "display_data"
    }
   ],
   "source": [
    "plt.plot(df1[0],df2[0]);"
   ]
  },
  {
   "cell_type": "code",
   "execution_count": 27,
   "metadata": {},
   "outputs": [
    {
     "data": {
      "application/vnd.jupyter.widget-view+json": {
       "model_id": "52bfda8e0a8648e499fd25abdb452e6b",
       "version_major": 2,
       "version_minor": 0
      },
      "text/plain": [
       "interactive(children=(IntSlider(value=0, description='mcs'), Output()), _dom_classes=('widget-interact',))"
      ]
     },
     "metadata": {},
     "output_type": "display_data"
    }
   ],
   "source": [
    "@interact(mcs=(0,100,1))\n",
    "def animation(mcs=0):\n",
    "    plt.contour(X, Y, rv.pdf(pos), cmap=\"plasma\")\n",
    "    plt.xlim([-3.0, 4.5])\n",
    "    plt.ylim([-1.0, 5.0])\n",
    "    plt.plot(df1[0][:mcs], df2[0][:mcs])\n",
    "    plt.show();"
   ]
  },
  {
   "cell_type": "code",
   "execution_count": null,
   "metadata": {
    "collapsed": true,
    "jupyter": {
     "outputs_hidden": true
    }
   },
   "outputs": [],
   "source": []
  }
 ],
 "metadata": {
  "kernelspec": {
   "display_name": "Python 3 (ipykernel)",
   "language": "python",
   "name": "python3"
  },
  "language_info": {
   "codemirror_mode": {
    "name": "ipython",
    "version": 3
   },
   "file_extension": ".py",
   "mimetype": "text/x-python",
   "name": "python",
   "nbconvert_exporter": "python",
   "pygments_lexer": "ipython3",
   "version": "3.9.12"
  }
 },
 "nbformat": 4,
 "nbformat_minor": 4
}
