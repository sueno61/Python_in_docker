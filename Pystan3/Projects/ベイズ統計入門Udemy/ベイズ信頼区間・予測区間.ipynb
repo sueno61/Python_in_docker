{
 "cells": [
  {
   "cell_type": "code",
   "execution_count": 1,
   "metadata": {},
   "outputs": [],
   "source": [
    "import pandas as pd\n",
    "import matplotlib.pyplot as plt\n",
    "import numpy as np\n",
    "import stan  # pystan\n",
    "from scipy.stats import mstats  # 単回帰.ipynbでは、未使用\n",
    "%matplotlib inline"
   ]
  },
  {
   "cell_type": "code",
   "execution_count": 2,
   "metadata": {},
   "outputs": [],
   "source": [
    "plt.style.use(\"ggplot\")"
   ]
  },
  {
   "cell_type": "code",
   "execution_count": 3,
   "metadata": {},
   "outputs": [],
   "source": [
    "df = pd.read_excel(\"./data/real_estate1.xlsx\")"
   ]
  },
  {
   "cell_type": "code",
   "execution_count": 4,
   "metadata": {},
   "outputs": [
    {
     "name": "stdout",
     "output_type": "stream",
     "text": [
      "<class 'pandas.core.frame.DataFrame'>\n",
      "RangeIndex: 23 entries, 0 to 22\n",
      "Data columns (total 4 columns):\n",
      " #   Column  Non-Null Count  Dtype \n",
      "---  ------  --------------  ----- \n",
      " 0   id      23 non-null     int64 \n",
      " 1   space   23 non-null     int64 \n",
      " 2   room    23 non-null     object\n",
      " 3   value   23 non-null     int64 \n",
      "dtypes: int64(3), object(1)\n",
      "memory usage: 864.0+ bytes\n"
     ]
    }
   ],
   "source": [
    "df.info()"
   ]
  },
  {
   "cell_type": "markdown",
   "metadata": {},
   "source": [
    "信頼区間：精度  \n",
    "予測区間：モデルにより取りうる範囲  \n",
    "generated quantities：発生させるサンプルを定義するブロック"
   ]
  },
  {
   "cell_type": "code",
   "execution_count": 5,
   "metadata": {},
   "outputs": [],
   "source": [
    "stan_model = \"\"\"\n",
    "data {\n",
    "  int N;\n",
    "  real X[N];\n",
    "  real Y[N];\n",
    "  int N_s;\n",
    "  real X_s[N_s];\n",
    "}\n",
    "\n",
    "parameters {\n",
    "  real a;\n",
    "  real b;\n",
    "  real<lower=0> sigma;\n",
    "}\n",
    "\n",
    "model {\n",
    "  for (n in 1:N){\n",
    "    Y[n] ~ normal(a * X[n] + b, sigma);\n",
    "  }\n",
    "}\n",
    "\n",
    "generated quantities {\n",
    "  real Y_s[N_s];\n",
    "  for (n in 1:N_s){\n",
    "    Y_s[n] = normal_rng(a * X_s[n] + b, sigma);\n",
    "  }\n",
    "}\n",
    "\n",
    "\"\"\""
   ]
  },
  {
   "cell_type": "code",
   "execution_count": 6,
   "metadata": {},
   "outputs": [],
   "source": [
    "X_s = np.arange(40,90,1)  # 予測区間\n",
    "N_s = X_s.shape[0]\n",
    "stan_data = {\"N\":df.shape[0],\n",
    "             \"X\":df[\"space\"].values,\n",
    "             \"Y\":df[\"value\"].values,\n",
    "             \"N_s\":N_s,\n",
    "             \"X_s\":X_s}"
   ]
  },
  {
   "cell_type": "code",
   "execution_count": 4,
   "metadata": {},
   "outputs": [],
   "source": [
    "# sm = pystan.StanModel(model_code=stan_model)"
   ]
  },
  {
   "cell_type": "code",
   "execution_count": 5,
   "metadata": {},
   "outputs": [],
   "source": [
    "# fit = sm.sampling(data = stan_data, iter = 2000, warmup= 500, chains= 3, seed=123)"
   ]
  },
  {
   "cell_type": "code",
   "execution_count": 7,
   "metadata": {},
   "outputs": [],
   "source": [
    "import nest_asyncio\n",
    "nest_asyncio.apply()"
   ]
  },
  {
   "cell_type": "code",
   "execution_count": 8,
   "metadata": {
    "tags": []
   },
   "outputs": [
    {
     "name": "stdout",
     "output_type": "stream",
     "text": [
      "Building...\n"
     ]
    },
    {
     "name": "stderr",
     "output_type": "stream",
     "text": [
      "\n",
      "Building: found in cache, done.Messages from stanc:\n",
      "Warning in '/tmp/httpstan_4_cjdjqn/model_yij7vjei.stan', line 4, column 2: Declaration\n",
      "    of arrays by placing brackets after a variable name is deprecated and\n",
      "    will be removed in Stan 2.32.0. Instead use the array keyword before the\n",
      "    type. This can be changed automatically using the auto-format flag to\n",
      "    stanc\n",
      "Warning in '/tmp/httpstan_4_cjdjqn/model_yij7vjei.stan', line 5, column 2: Declaration\n",
      "    of arrays by placing brackets after a variable name is deprecated and\n",
      "    will be removed in Stan 2.32.0. Instead use the array keyword before the\n",
      "    type. This can be changed automatically using the auto-format flag to\n",
      "    stanc\n",
      "Warning in '/tmp/httpstan_4_cjdjqn/model_yij7vjei.stan', line 7, column 2: Declaration\n",
      "    of arrays by placing brackets after a variable name is deprecated and\n",
      "    will be removed in Stan 2.32.0. Instead use the array keyword before the\n",
      "    type. This can be changed automatically using the auto-format flag to\n",
      "    stanc\n",
      "Warning in '/tmp/httpstan_4_cjdjqn/model_yij7vjei.stan', line 23, column 2: Declaration\n",
      "    of arrays by placing brackets after a variable name is deprecated and\n",
      "    will be removed in Stan 2.32.0. Instead use the array keyword before the\n",
      "    type. This can be changed automatically using the auto-format flag to\n",
      "    stanc\n",
      "Warning: The parameter sigma has no priors.\n",
      "Warning: The parameter b has no priors.\n",
      "Warning: The parameter a has no priors.\n",
      "Sampling:   0%\n",
      "Sampling:  33% (2000/6000)\n",
      "Sampling:  67% (4000/6000)\n",
      "Sampling: 100% (6000/6000)\n",
      "Sampling: 100% (6000/6000), done.\n",
      "Messages received during sampling:\n",
      "  Gradient evaluation took 3.1e-05 seconds\n",
      "  1000 transitions using 10 leapfrog steps per transition would take 0.31 seconds.\n",
      "  Adjust your expectations accordingly!\n",
      "  Gradient evaluation took 3.1e-05 seconds\n",
      "  1000 transitions using 10 leapfrog steps per transition would take 0.31 seconds.\n",
      "  Adjust your expectations accordingly!\n",
      "  Gradient evaluation took 3.8e-05 seconds\n",
      "  1000 transitions using 10 leapfrog steps per transition would take 0.38 seconds.\n",
      "  Adjust your expectations accordingly!\n"
     ]
    }
   ],
   "source": [
    "posterior = stan.build(stan_model, data=stan_data, random_seed=123)\n",
    "fit = posterior.sample(num_chains=3, num_samples=1500, num_warmup=500, save_warmup=0)"
   ]
  },
  {
   "cell_type": "code",
   "execution_count": 9,
   "metadata": {},
   "outputs": [
    {
     "data": {
      "text/plain": [
       "OrderedDict([('a',\n",
       "              array([ 76.41266253,  93.94065493,  80.63040866, ...,  95.98200868,\n",
       "                      53.71508784, 105.92215028]))])"
      ]
     },
     "execution_count": 9,
     "metadata": {},
     "output_type": "execute_result"
    }
   ],
   "source": [
    "# fit.extract(\"a\")  # MCMCでサンプリング取得した\"a\"の値をarrayで取得"
   ]
  },
  {
   "cell_type": "code",
   "execution_count": 9,
   "metadata": {},
   "outputs": [
    {
     "data": {
      "text/plain": [
       "array([[56.69073092, 90.44231973, 81.10238358, ..., 84.09344139,\n",
       "        67.06041348, 74.04121167]])"
      ]
     },
     "execution_count": 9,
     "metadata": {},
     "output_type": "execute_result"
    }
   ],
   "source": [
    "fit['a']"
   ]
  },
  {
   "cell_type": "code",
   "execution_count": 15,
   "metadata": {},
   "outputs": [
    {
     "data": {
      "text/plain": [
       "OrderedDict([('a',\n",
       "              array([ 76.41266253,  93.94065493,  80.63040866, ...,  95.98200868,\n",
       "                      53.71508784, 105.92215028])),\n",
       "             ('b',\n",
       "              array([ -561.55496799, -1909.86642069, -1074.95954857, ...,\n",
       "                     -1709.27413073,   967.83287616, -2906.2669466 ])),\n",
       "             ('sigma',\n",
       "              array([619.90458227, 617.69534307, 464.08057631, ..., 606.19650203,\n",
       "                     864.23714251, 653.98174108])),\n",
       "             ('Y_s',\n",
       "              array([[2294.27605834, 3514.28858887, 2488.67046828, ..., 6417.71304102,\n",
       "                      5567.66601253, 5241.66336519],\n",
       "                     [2041.32586214, 2063.52099482, 2431.06705493, ..., 7223.87892607,\n",
       "                      5739.2849962 , 6356.12569545],\n",
       "                     [2051.87128719, 1638.31423125, 2882.93646296, ..., 6029.77266042,\n",
       "                      6102.38628348, 5869.81921034],\n",
       "                     ...,\n",
       "                     [1435.28210063, 1497.00088542, 2568.11216845, ..., 6755.86912807,\n",
       "                      6711.23855476, 7447.66202697],\n",
       "                     [3448.86227089, 2808.84071477, 3299.01798656, ..., 5488.24793229,\n",
       "                      6171.14711885, 6136.46238212],\n",
       "                     [1938.930148  , 2211.44891712, 1753.04757129, ..., 6631.69315285,\n",
       "                      6535.03245102, 5806.11517777]])),\n",
       "             ('lp__',\n",
       "              array([-150.59610923, -151.7063817 , -153.44457597, ..., -153.7974615 ,\n",
       "                     -154.61809101, -154.822723  ]))])"
      ]
     },
     "execution_count": 15,
     "metadata": {},
     "output_type": "execute_result"
    }
   ],
   "source": [
    "# fit.extract()"
   ]
  },
  {
   "cell_type": "code",
   "execution_count": 10,
   "metadata": {},
   "outputs": [
    {
     "data": {
      "text/html": [
       "<div>\n",
       "<style scoped>\n",
       "    .dataframe tbody tr th:only-of-type {\n",
       "        vertical-align: middle;\n",
       "    }\n",
       "\n",
       "    .dataframe tbody tr th {\n",
       "        vertical-align: top;\n",
       "    }\n",
       "\n",
       "    .dataframe thead th {\n",
       "        text-align: right;\n",
       "    }\n",
       "</style>\n",
       "<table border=\"1\" class=\"dataframe\">\n",
       "  <thead>\n",
       "    <tr style=\"text-align: right;\">\n",
       "      <th></th>\n",
       "      <th>count</th>\n",
       "      <th>mean</th>\n",
       "      <th>std</th>\n",
       "      <th>min</th>\n",
       "      <th>25%</th>\n",
       "      <th>50%</th>\n",
       "      <th>75%</th>\n",
       "      <th>max</th>\n",
       "    </tr>\n",
       "    <tr>\n",
       "      <th>parameters</th>\n",
       "      <th></th>\n",
       "      <th></th>\n",
       "      <th></th>\n",
       "      <th></th>\n",
       "      <th></th>\n",
       "      <th></th>\n",
       "      <th></th>\n",
       "      <th></th>\n",
       "    </tr>\n",
       "  </thead>\n",
       "  <tbody>\n",
       "    <tr>\n",
       "      <th>lp__</th>\n",
       "      <td>4500.0</td>\n",
       "      <td>-152.030912</td>\n",
       "      <td>1.352336</td>\n",
       "      <td>-161.098055</td>\n",
       "      <td>-152.622647</td>\n",
       "      <td>-151.669867</td>\n",
       "      <td>-151.057271</td>\n",
       "      <td>-150.399713</td>\n",
       "    </tr>\n",
       "    <tr>\n",
       "      <th>accept_stat__</th>\n",
       "      <td>4500.0</td>\n",
       "      <td>0.937292</td>\n",
       "      <td>0.094173</td>\n",
       "      <td>0.211363</td>\n",
       "      <td>0.918100</td>\n",
       "      <td>0.976521</td>\n",
       "      <td>0.995761</td>\n",
       "      <td>1.000000</td>\n",
       "    </tr>\n",
       "    <tr>\n",
       "      <th>stepsize__</th>\n",
       "      <td>4500.0</td>\n",
       "      <td>0.099721</td>\n",
       "      <td>0.011330</td>\n",
       "      <td>0.084447</td>\n",
       "      <td>0.084447</td>\n",
       "      <td>0.103169</td>\n",
       "      <td>0.111546</td>\n",
       "      <td>0.111546</td>\n",
       "    </tr>\n",
       "    <tr>\n",
       "      <th>treedepth__</th>\n",
       "      <td>4500.0</td>\n",
       "      <td>3.878444</td>\n",
       "      <td>1.141715</td>\n",
       "      <td>1.000000</td>\n",
       "      <td>3.000000</td>\n",
       "      <td>4.000000</td>\n",
       "      <td>5.000000</td>\n",
       "      <td>6.000000</td>\n",
       "    </tr>\n",
       "    <tr>\n",
       "      <th>n_leapfrog__</th>\n",
       "      <td>4500.0</td>\n",
       "      <td>24.200889</td>\n",
       "      <td>15.120634</td>\n",
       "      <td>1.000000</td>\n",
       "      <td>11.000000</td>\n",
       "      <td>27.000000</td>\n",
       "      <td>31.000000</td>\n",
       "      <td>63.000000</td>\n",
       "    </tr>\n",
       "    <tr>\n",
       "      <th>divergent__</th>\n",
       "      <td>4500.0</td>\n",
       "      <td>0.000000</td>\n",
       "      <td>0.000000</td>\n",
       "      <td>0.000000</td>\n",
       "      <td>0.000000</td>\n",
       "      <td>0.000000</td>\n",
       "      <td>0.000000</td>\n",
       "      <td>0.000000</td>\n",
       "    </tr>\n",
       "    <tr>\n",
       "      <th>energy__</th>\n",
       "      <td>4500.0</td>\n",
       "      <td>153.535246</td>\n",
       "      <td>1.830289</td>\n",
       "      <td>150.479048</td>\n",
       "      <td>152.192754</td>\n",
       "      <td>153.202700</td>\n",
       "      <td>154.471976</td>\n",
       "      <td>164.783049</td>\n",
       "    </tr>\n",
       "    <tr>\n",
       "      <th>a</th>\n",
       "      <td>4500.0</td>\n",
       "      <td>78.011772</td>\n",
       "      <td>11.826170</td>\n",
       "      <td>26.832259</td>\n",
       "      <td>70.422129</td>\n",
       "      <td>78.353572</td>\n",
       "      <td>85.401656</td>\n",
       "      <td>129.710558</td>\n",
       "    </tr>\n",
       "    <tr>\n",
       "      <th>b</th>\n",
       "      <td>4500.0</td>\n",
       "      <td>-696.594315</td>\n",
       "      <td>849.365219</td>\n",
       "      <td>-4299.020429</td>\n",
       "      <td>-1216.884306</td>\n",
       "      <td>-715.860927</td>\n",
       "      <td>-151.728624</td>\n",
       "      <td>2856.403828</td>\n",
       "    </tr>\n",
       "    <tr>\n",
       "      <th>sigma</th>\n",
       "      <td>4500.0</td>\n",
       "      <td>619.411170</td>\n",
       "      <td>107.044603</td>\n",
       "      <td>357.220128</td>\n",
       "      <td>545.102040</td>\n",
       "      <td>604.886263</td>\n",
       "      <td>674.810464</td>\n",
       "      <td>1286.817522</td>\n",
       "    </tr>\n",
       "    <tr>\n",
       "      <th>Y_s.1</th>\n",
       "      <td>4500.0</td>\n",
       "      <td>2421.538945</td>\n",
       "      <td>734.008326</td>\n",
       "      <td>-1148.017465</td>\n",
       "      <td>1944.232324</td>\n",
       "      <td>2410.425785</td>\n",
       "      <td>2907.806951</td>\n",
       "      <td>5147.918379</td>\n",
       "    </tr>\n",
       "    <tr>\n",
       "      <th>Y_s.2</th>\n",
       "      <td>4500.0</td>\n",
       "      <td>2485.936109</td>\n",
       "      <td>744.464834</td>\n",
       "      <td>-2168.196900</td>\n",
       "      <td>2008.343716</td>\n",
       "      <td>2486.058520</td>\n",
       "      <td>2974.139787</td>\n",
       "      <td>5710.892405</td>\n",
       "    </tr>\n",
       "  </tbody>\n",
       "</table>\n",
       "</div>"
      ],
      "text/plain": [
       "                count         mean         std          min          25%  \\\n",
       "parameters                                                                 \n",
       "lp__           4500.0  -152.030912    1.352336  -161.098055  -152.622647   \n",
       "accept_stat__  4500.0     0.937292    0.094173     0.211363     0.918100   \n",
       "stepsize__     4500.0     0.099721    0.011330     0.084447     0.084447   \n",
       "treedepth__    4500.0     3.878444    1.141715     1.000000     3.000000   \n",
       "n_leapfrog__   4500.0    24.200889   15.120634     1.000000    11.000000   \n",
       "divergent__    4500.0     0.000000    0.000000     0.000000     0.000000   \n",
       "energy__       4500.0   153.535246    1.830289   150.479048   152.192754   \n",
       "a              4500.0    78.011772   11.826170    26.832259    70.422129   \n",
       "b              4500.0  -696.594315  849.365219 -4299.020429 -1216.884306   \n",
       "sigma          4500.0   619.411170  107.044603   357.220128   545.102040   \n",
       "Y_s.1          4500.0  2421.538945  734.008326 -1148.017465  1944.232324   \n",
       "Y_s.2          4500.0  2485.936109  744.464834 -2168.196900  2008.343716   \n",
       "\n",
       "                       50%          75%          max  \n",
       "parameters                                            \n",
       "lp__           -151.669867  -151.057271  -150.399713  \n",
       "accept_stat__     0.976521     0.995761     1.000000  \n",
       "stepsize__        0.103169     0.111546     0.111546  \n",
       "treedepth__       4.000000     5.000000     6.000000  \n",
       "n_leapfrog__     27.000000    31.000000    63.000000  \n",
       "divergent__       0.000000     0.000000     0.000000  \n",
       "energy__        153.202700   154.471976   164.783049  \n",
       "a                78.353572    85.401656   129.710558  \n",
       "b              -715.860927  -151.728624  2856.403828  \n",
       "sigma           604.886263   674.810464  1286.817522  \n",
       "Y_s.1          2410.425785  2907.806951  5147.918379  \n",
       "Y_s.2          2486.058520  2974.139787  5710.892405  "
      ]
     },
     "execution_count": 10,
     "metadata": {},
     "output_type": "execute_result"
    }
   ],
   "source": [
    "df_fit = fit.to_frame()\n",
    "df_fit.describe().T.head(12)"
   ]
  },
  {
   "cell_type": "code",
   "execution_count": null,
   "metadata": {},
   "outputs": [],
   "source": [
    "# ms_a = fit.extract(\"a\")[\"a\"]  # サンプルを受け取る"
   ]
  },
  {
   "cell_type": "code",
   "execution_count": 17,
   "metadata": {},
   "outputs": [
    {
     "data": {
      "text/plain": [
       "array([ 76.41266253,  93.94065493,  80.63040866, ...,  95.98200868,\n",
       "        53.71508784, 105.92215028])"
      ]
     },
     "execution_count": 17,
     "metadata": {},
     "output_type": "execute_result"
    }
   ],
   "source": [
    "# ms_a"
   ]
  },
  {
   "cell_type": "code",
   "execution_count": 11,
   "metadata": {},
   "outputs": [
    {
     "data": {
      "text/plain": [
       "array([56.69073092, 90.44231973, 81.10238358, ..., 84.09344139,\n",
       "       67.06041348, 74.04121167])"
      ]
     },
     "execution_count": 11,
     "metadata": {},
     "output_type": "execute_result"
    }
   ],
   "source": [
    "ms_a = df_fit[\"a\"]\n",
    "\n",
    "ms_a.values"
   ]
  },
  {
   "cell_type": "code",
   "execution_count": 12,
   "metadata": {},
   "outputs": [
    {
     "data": {
      "text/plain": [
       "(array([   4.,   34.,  165.,  643., 1387., 1474.,  618.,  150.,   21.,\n",
       "           4.]),\n",
       " array([ 26.83225873,  37.12008863,  47.40791853,  57.69574843,\n",
       "         67.98357833,  78.27140824,  88.55923814,  98.84706804,\n",
       "        109.13489794, 119.42272784, 129.71055774]),\n",
       " <BarContainer object of 10 artists>)"
      ]
     },
     "execution_count": 12,
     "metadata": {},
     "output_type": "execute_result"
    },
    {
     "data": {
      "image/png": "[encoded data removed]",
      "text/plain": [
       "<Figure size 432x288 with 1 Axes>"
      ]
     },
     "metadata": {},
     "output_type": "display_data"
    }
   ],
   "source": [
    "plt.hist(ms_a)  # 事後分布（の再現）"
   ]
  },
  {
   "cell_type": "code",
   "execution_count": 13,
   "metadata": {},
   "outputs": [],
   "source": [
    "# ms_b = fit.extract(\"b\")[\"b\"]\n",
    "\n",
    "ms_b = df_fit[\"b\"]"
   ]
  },
  {
   "cell_type": "code",
   "execution_count": 14,
   "metadata": {},
   "outputs": [],
   "source": [
    "df_b = pd.DataFrame([])  # 4,500のサンプル（信頼区間）格納\n",
    "for i in range(40, 90, 1):\n",
    "    df_b[i] = ms_a * i + ms_b"
   ]
  },
  {
   "cell_type": "code",
   "execution_count": 15,
   "metadata": {},
   "outputs": [
    {
     "data": {
      "text/html": [
       "<div>\n",
       "<style scoped>\n",
       "    .dataframe tbody tr th:only-of-type {\n",
       "        vertical-align: middle;\n",
       "    }\n",
       "\n",
       "    .dataframe tbody tr th {\n",
       "        vertical-align: top;\n",
       "    }\n",
       "\n",
       "    .dataframe thead th {\n",
       "        text-align: right;\n",
       "    }\n",
       "</style>\n",
       "<table border=\"1\" class=\"dataframe\">\n",
       "  <thead>\n",
       "    <tr style=\"text-align: right;\">\n",
       "      <th></th>\n",
       "      <th>40</th>\n",
       "      <th>41</th>\n",
       "      <th>42</th>\n",
       "      <th>43</th>\n",
       "      <th>44</th>\n",
       "      <th>45</th>\n",
       "      <th>46</th>\n",
       "      <th>47</th>\n",
       "      <th>48</th>\n",
       "      <th>49</th>\n",
       "      <th>...</th>\n",
       "      <th>80</th>\n",
       "      <th>81</th>\n",
       "      <th>82</th>\n",
       "      <th>83</th>\n",
       "      <th>84</th>\n",
       "      <th>85</th>\n",
       "      <th>86</th>\n",
       "      <th>87</th>\n",
       "      <th>88</th>\n",
       "      <th>89</th>\n",
       "    </tr>\n",
       "    <tr>\n",
       "      <th>draws</th>\n",
       "      <th></th>\n",
       "      <th></th>\n",
       "      <th></th>\n",
       "      <th></th>\n",
       "      <th></th>\n",
       "      <th></th>\n",
       "      <th></th>\n",
       "      <th></th>\n",
       "      <th></th>\n",
       "      <th></th>\n",
       "      <th></th>\n",
       "      <th></th>\n",
       "      <th></th>\n",
       "      <th></th>\n",
       "      <th></th>\n",
       "      <th></th>\n",
       "      <th></th>\n",
       "      <th></th>\n",
       "      <th></th>\n",
       "      <th></th>\n",
       "      <th></th>\n",
       "    </tr>\n",
       "  </thead>\n",
       "  <tbody>\n",
       "    <tr>\n",
       "      <th>0</th>\n",
       "      <td>3155.463772</td>\n",
       "      <td>3212.154503</td>\n",
       "      <td>3268.845234</td>\n",
       "      <td>3325.535965</td>\n",
       "      <td>3382.226696</td>\n",
       "      <td>3438.917427</td>\n",
       "      <td>3495.608158</td>\n",
       "      <td>3552.298889</td>\n",
       "      <td>3608.989620</td>\n",
       "      <td>3665.680351</td>\n",
       "      <td>...</td>\n",
       "      <td>5423.093009</td>\n",
       "      <td>5479.783740</td>\n",
       "      <td>5536.474471</td>\n",
       "      <td>5593.165202</td>\n",
       "      <td>5649.855933</td>\n",
       "      <td>5706.546664</td>\n",
       "      <td>5763.237395</td>\n",
       "      <td>5819.928126</td>\n",
       "      <td>5876.618857</td>\n",
       "      <td>5933.309588</td>\n",
       "    </tr>\n",
       "    <tr>\n",
       "      <th>1</th>\n",
       "      <td>1988.085226</td>\n",
       "      <td>2078.527546</td>\n",
       "      <td>2168.969866</td>\n",
       "      <td>2259.412186</td>\n",
       "      <td>2349.854505</td>\n",
       "      <td>2440.296825</td>\n",
       "      <td>2530.739145</td>\n",
       "      <td>2621.181465</td>\n",
       "      <td>2711.623784</td>\n",
       "      <td>2802.066104</td>\n",
       "      <td>...</td>\n",
       "      <td>5605.778016</td>\n",
       "      <td>5696.220335</td>\n",
       "      <td>5786.662655</td>\n",
       "      <td>5877.104975</td>\n",
       "      <td>5967.547295</td>\n",
       "      <td>6057.989614</td>\n",
       "      <td>6148.431934</td>\n",
       "      <td>6238.874254</td>\n",
       "      <td>6329.316574</td>\n",
       "      <td>6419.758893</td>\n",
       "    </tr>\n",
       "    <tr>\n",
       "      <th>2</th>\n",
       "      <td>2243.910756</td>\n",
       "      <td>2325.013139</td>\n",
       "      <td>2406.115523</td>\n",
       "      <td>2487.217906</td>\n",
       "      <td>2568.320290</td>\n",
       "      <td>2649.422674</td>\n",
       "      <td>2730.525057</td>\n",
       "      <td>2811.627441</td>\n",
       "      <td>2892.729824</td>\n",
       "      <td>2973.832208</td>\n",
       "      <td>...</td>\n",
       "      <td>5488.006099</td>\n",
       "      <td>5569.108483</td>\n",
       "      <td>5650.210866</td>\n",
       "      <td>5731.313250</td>\n",
       "      <td>5812.415633</td>\n",
       "      <td>5893.518017</td>\n",
       "      <td>5974.620400</td>\n",
       "      <td>6055.722784</td>\n",
       "      <td>6136.825168</td>\n",
       "      <td>6217.927551</td>\n",
       "    </tr>\n",
       "    <tr>\n",
       "      <th>3</th>\n",
       "      <td>3122.210388</td>\n",
       "      <td>3178.431646</td>\n",
       "      <td>3234.652903</td>\n",
       "      <td>3290.874160</td>\n",
       "      <td>3347.095417</td>\n",
       "      <td>3403.316674</td>\n",
       "      <td>3459.537931</td>\n",
       "      <td>3515.759188</td>\n",
       "      <td>3571.980445</td>\n",
       "      <td>3628.201703</td>\n",
       "      <td>...</td>\n",
       "      <td>5371.060674</td>\n",
       "      <td>5427.281931</td>\n",
       "      <td>5483.503188</td>\n",
       "      <td>5539.724445</td>\n",
       "      <td>5595.945702</td>\n",
       "      <td>5652.166959</td>\n",
       "      <td>5708.388216</td>\n",
       "      <td>5764.609474</td>\n",
       "      <td>5820.830731</td>\n",
       "      <td>5877.051988</td>\n",
       "    </tr>\n",
       "    <tr>\n",
       "      <th>4</th>\n",
       "      <td>2485.964743</td>\n",
       "      <td>2562.541096</td>\n",
       "      <td>2639.117448</td>\n",
       "      <td>2715.693801</td>\n",
       "      <td>2792.270153</td>\n",
       "      <td>2868.846506</td>\n",
       "      <td>2945.422858</td>\n",
       "      <td>3021.999211</td>\n",
       "      <td>3098.575563</td>\n",
       "      <td>3175.151916</td>\n",
       "      <td>...</td>\n",
       "      <td>5549.018844</td>\n",
       "      <td>5625.595197</td>\n",
       "      <td>5702.171549</td>\n",
       "      <td>5778.747902</td>\n",
       "      <td>5855.324254</td>\n",
       "      <td>5931.900607</td>\n",
       "      <td>6008.476959</td>\n",
       "      <td>6085.053312</td>\n",
       "      <td>6161.629664</td>\n",
       "      <td>6238.206017</td>\n",
       "    </tr>\n",
       "    <tr>\n",
       "      <th>...</th>\n",
       "      <td>...</td>\n",
       "      <td>...</td>\n",
       "      <td>...</td>\n",
       "      <td>...</td>\n",
       "      <td>...</td>\n",
       "      <td>...</td>\n",
       "      <td>...</td>\n",
       "      <td>...</td>\n",
       "      <td>...</td>\n",
       "      <td>...</td>\n",
       "      <td>...</td>\n",
       "      <td>...</td>\n",
       "      <td>...</td>\n",
       "      <td>...</td>\n",
       "      <td>...</td>\n",
       "      <td>...</td>\n",
       "      <td>...</td>\n",
       "      <td>...</td>\n",
       "      <td>...</td>\n",
       "      <td>...</td>\n",
       "      <td>...</td>\n",
       "    </tr>\n",
       "    <tr>\n",
       "      <th>4495</th>\n",
       "      <td>2747.280651</td>\n",
       "      <td>2813.861454</td>\n",
       "      <td>2880.442256</td>\n",
       "      <td>2947.023058</td>\n",
       "      <td>3013.603860</td>\n",
       "      <td>3080.184662</td>\n",
       "      <td>3146.765464</td>\n",
       "      <td>3213.346266</td>\n",
       "      <td>3279.927068</td>\n",
       "      <td>3346.507870</td>\n",
       "      <td>...</td>\n",
       "      <td>5410.512735</td>\n",
       "      <td>5477.093538</td>\n",
       "      <td>5543.674340</td>\n",
       "      <td>5610.255142</td>\n",
       "      <td>5676.835944</td>\n",
       "      <td>5743.416746</td>\n",
       "      <td>5809.997548</td>\n",
       "      <td>5876.578350</td>\n",
       "      <td>5943.159152</td>\n",
       "      <td>6009.739954</td>\n",
       "    </tr>\n",
       "    <tr>\n",
       "      <th>4496</th>\n",
       "      <td>2241.704646</td>\n",
       "      <td>2326.053283</td>\n",
       "      <td>2410.401919</td>\n",
       "      <td>2494.750556</td>\n",
       "      <td>2579.099193</td>\n",
       "      <td>2663.447830</td>\n",
       "      <td>2747.796467</td>\n",
       "      <td>2832.145103</td>\n",
       "      <td>2916.493740</td>\n",
       "      <td>3000.842377</td>\n",
       "      <td>...</td>\n",
       "      <td>5615.650118</td>\n",
       "      <td>5699.998755</td>\n",
       "      <td>5784.347391</td>\n",
       "      <td>5868.696028</td>\n",
       "      <td>5953.044665</td>\n",
       "      <td>6037.393302</td>\n",
       "      <td>6121.741939</td>\n",
       "      <td>6206.090575</td>\n",
       "      <td>6290.439212</td>\n",
       "      <td>6374.787849</td>\n",
       "    </tr>\n",
       "    <tr>\n",
       "      <th>4497</th>\n",
       "      <td>2076.877425</td>\n",
       "      <td>2160.970866</td>\n",
       "      <td>2245.064308</td>\n",
       "      <td>2329.157749</td>\n",
       "      <td>2413.251191</td>\n",
       "      <td>2497.344632</td>\n",
       "      <td>2581.438073</td>\n",
       "      <td>2665.531515</td>\n",
       "      <td>2749.624956</td>\n",
       "      <td>2833.718398</td>\n",
       "      <td>...</td>\n",
       "      <td>5440.615081</td>\n",
       "      <td>5524.708522</td>\n",
       "      <td>5608.801964</td>\n",
       "      <td>5692.895405</td>\n",
       "      <td>5776.988846</td>\n",
       "      <td>5861.082288</td>\n",
       "      <td>5945.175729</td>\n",
       "      <td>6029.269170</td>\n",
       "      <td>6113.362612</td>\n",
       "      <td>6197.456053</td>\n",
       "    </tr>\n",
       "    <tr>\n",
       "      <th>4498</th>\n",
       "      <td>2794.688907</td>\n",
       "      <td>2861.749320</td>\n",
       "      <td>2928.809734</td>\n",
       "      <td>2995.870147</td>\n",
       "      <td>3062.930561</td>\n",
       "      <td>3129.990974</td>\n",
       "      <td>3197.051388</td>\n",
       "      <td>3264.111801</td>\n",
       "      <td>3331.172215</td>\n",
       "      <td>3398.232628</td>\n",
       "      <td>...</td>\n",
       "      <td>5477.105446</td>\n",
       "      <td>5544.165859</td>\n",
       "      <td>5611.226273</td>\n",
       "      <td>5678.286686</td>\n",
       "      <td>5745.347100</td>\n",
       "      <td>5812.407513</td>\n",
       "      <td>5879.467927</td>\n",
       "      <td>5946.528340</td>\n",
       "      <td>6013.588754</td>\n",
       "      <td>6080.649167</td>\n",
       "    </tr>\n",
       "    <tr>\n",
       "      <th>4499</th>\n",
       "      <td>2495.736547</td>\n",
       "      <td>2569.777758</td>\n",
       "      <td>2643.818970</td>\n",
       "      <td>2717.860182</td>\n",
       "      <td>2791.901393</td>\n",
       "      <td>2865.942605</td>\n",
       "      <td>2939.983817</td>\n",
       "      <td>3014.025028</td>\n",
       "      <td>3088.066240</td>\n",
       "      <td>3162.107452</td>\n",
       "      <td>...</td>\n",
       "      <td>5457.385013</td>\n",
       "      <td>5531.426225</td>\n",
       "      <td>5605.467437</td>\n",
       "      <td>5679.508648</td>\n",
       "      <td>5753.549860</td>\n",
       "      <td>5827.591072</td>\n",
       "      <td>5901.632283</td>\n",
       "      <td>5975.673495</td>\n",
       "      <td>6049.714707</td>\n",
       "      <td>6123.755918</td>\n",
       "    </tr>\n",
       "  </tbody>\n",
       "</table>\n",
       "<p>4500 rows × 50 columns</p>\n",
       "</div>"
      ],
      "text/plain": [
       "                40           41           42           43           44  \\\n",
       "draws                                                                    \n",
       "0      3155.463772  3212.154503  3268.845234  3325.535965  3382.226696   \n",
       "1      1988.085226  2078.527546  2168.969866  2259.412186  2349.854505   \n",
       "2      2243.910756  2325.013139  2406.115523  2487.217906  2568.320290   \n",
       "3      3122.210388  3178.431646  3234.652903  3290.874160  3347.095417   \n",
       "4      2485.964743  2562.541096  2639.117448  2715.693801  2792.270153   \n",
       "...            ...          ...          ...          ...          ...   \n",
       "4495   2747.280651  2813.861454  2880.442256  2947.023058  3013.603860   \n",
       "4496   2241.704646  2326.053283  2410.401919  2494.750556  2579.099193   \n",
       "4497   2076.877425  2160.970866  2245.064308  2329.157749  2413.251191   \n",
       "4498   2794.688907  2861.749320  2928.809734  2995.870147  3062.930561   \n",
       "4499   2495.736547  2569.777758  2643.818970  2717.860182  2791.901393   \n",
       "\n",
       "                45           46           47           48           49  ...  \\\n",
       "draws                                                                   ...   \n",
       "0      3438.917427  3495.608158  3552.298889  3608.989620  3665.680351  ...   \n",
       "1      2440.296825  2530.739145  2621.181465  2711.623784  2802.066104  ...   \n",
       "2      2649.422674  2730.525057  2811.627441  2892.729824  2973.832208  ...   \n",
       "3      3403.316674  3459.537931  3515.759188  3571.980445  3628.201703  ...   \n",
       "4      2868.846506  2945.422858  3021.999211  3098.575563  3175.151916  ...   \n",
       "...            ...          ...          ...          ...          ...  ...   \n",
       "4495   3080.184662  3146.765464  3213.346266  3279.927068  3346.507870  ...   \n",
       "4496   2663.447830  2747.796467  2832.145103  2916.493740  3000.842377  ...   \n",
       "4497   2497.344632  2581.438073  2665.531515  2749.624956  2833.718398  ...   \n",
       "4498   3129.990974  3197.051388  3264.111801  3331.172215  3398.232628  ...   \n",
       "4499   2865.942605  2939.983817  3014.025028  3088.066240  3162.107452  ...   \n",
       "\n",
       "                80           81           82           83           84  \\\n",
       "draws                                                                    \n",
       "0      5423.093009  5479.783740  5536.474471  5593.165202  5649.855933   \n",
       "1      5605.778016  5696.220335  5786.662655  5877.104975  5967.547295   \n",
       "2      5488.006099  5569.108483  5650.210866  5731.313250  5812.415633   \n",
       "3      5371.060674  5427.281931  5483.503188  5539.724445  5595.945702   \n",
       "4      5549.018844  5625.595197  5702.171549  5778.747902  5855.324254   \n",
       "...            ...          ...          ...          ...          ...   \n",
       "4495   5410.512735  5477.093538  5543.674340  5610.255142  5676.835944   \n",
       "4496   5615.650118  5699.998755  5784.347391  5868.696028  5953.044665   \n",
       "4497   5440.615081  5524.708522  5608.801964  5692.895405  5776.988846   \n",
       "4498   5477.105446  5544.165859  5611.226273  5678.286686  5745.347100   \n",
       "4499   5457.385013  5531.426225  5605.467437  5679.508648  5753.549860   \n",
       "\n",
       "                85           86           87           88           89  \n",
       "draws                                                                   \n",
       "0      5706.546664  5763.237395  5819.928126  5876.618857  5933.309588  \n",
       "1      6057.989614  6148.431934  6238.874254  6329.316574  6419.758893  \n",
       "2      5893.518017  5974.620400  6055.722784  6136.825168  6217.927551  \n",
       "3      5652.166959  5708.388216  5764.609474  5820.830731  5877.051988  \n",
       "4      5931.900607  6008.476959  6085.053312  6161.629664  6238.206017  \n",
       "...            ...          ...          ...          ...          ...  \n",
       "4495   5743.416746  5809.997548  5876.578350  5943.159152  6009.739954  \n",
       "4496   6037.393302  6121.741939  6206.090575  6290.439212  6374.787849  \n",
       "4497   5861.082288  5945.175729  6029.269170  6113.362612  6197.456053  \n",
       "4498   5812.407513  5879.467927  5946.528340  6013.588754  6080.649167  \n",
       "4499   5827.591072  5901.632283  5975.673495  6049.714707  6123.755918  \n",
       "\n",
       "[4500 rows x 50 columns]"
      ]
     },
     "execution_count": 15,
     "metadata": {},
     "output_type": "execute_result"
    }
   ],
   "source": [
    "df_b"
   ]
  },
  {
   "cell_type": "markdown",
   "metadata": {},
   "source": [
    "下限値と上限値をもとめる　$mstats.mquantiles$  \n",
    "　50%信頼区間→0.25-0.75  \n",
    "　95%信頼区間→0.025-0.975"
   ]
  },
  {
   "cell_type": "code",
   "execution_count": 16,
   "metadata": {},
   "outputs": [],
   "source": [
    "low_y50, high_y50 = mstats.mquantiles(df_b, [0.25,0.75], axis=0)\n",
    "low_y95, high_y95 = mstats.mquantiles(df_b, [0.025,0.975], axis=0)"
   ]
  },
  {
   "cell_type": "code",
   "execution_count": 17,
   "metadata": {},
   "outputs": [
    {
     "data": {
      "text/plain": [
       "78.0117715659362"
      ]
     },
     "execution_count": 17,
     "metadata": {},
     "output_type": "execute_result"
    }
   ],
   "source": [
    "fit[\"a\"].mean()"
   ]
  },
  {
   "cell_type": "code",
   "execution_count": 18,
   "metadata": {},
   "outputs": [
    {
     "data": {
      "text/plain": [
       "-696.5943152081593"
      ]
     },
     "execution_count": 18,
     "metadata": {},
     "output_type": "execute_result"
    }
   ],
   "source": [
    "fit[\"b\"].mean()"
   ]
  },
  {
   "cell_type": "code",
   "execution_count": 19,
   "metadata": {},
   "outputs": [
    {
     "data": {
      "image/png": "[encoded data removed]",
      "text/plain": [
       "<Figure size 576x432 with 1 Axes>"
      ]
     },
     "metadata": {},
     "output_type": "display_data"
    }
   ],
   "source": [
    "plt.figure(figsize=(8,6))\n",
    "\n",
    "plt.scatter(df[\"space\"],df[\"value\"])\n",
    "\n",
    "plt.fill_between(X_s, low_y50, high_y50, alpha=0.6, color=\"darkgray\")  # alpha:透明度\n",
    "plt.fill_between(X_s, low_y95, high_y95, alpha=0.3, color=\"gray\")\n",
    "\n",
    "a = 78.01\n",
    "b = -696.59\n",
    "y = a * X_s + b\n",
    "plt.plot(X_s, y, color =\"black\");"
   ]
  },
  {
   "cell_type": "code",
   "execution_count": 20,
   "metadata": {},
   "outputs": [
    {
     "data": {
      "image/png": "[encoded data removed]",
      "text/plain": [
       "<Figure size 576x432 with 1 Axes>"
      ]
     },
     "metadata": {},
     "output_type": "display_data"
    }
   ],
   "source": [
    "plt.figure(figsize=(8,6))\n",
    "import seaborn as sns\n",
    "sns.regplot(x=df[\"space\"], y=df[\"value\"]);"
   ]
  },
  {
   "cell_type": "markdown",
   "metadata": {},
   "source": [
    "## 予測区間"
   ]
  },
  {
   "cell_type": "code",
   "execution_count": 21,
   "metadata": {},
   "outputs": [],
   "source": [
    "# Y_p = fit.extract(\"Y_s\")[\"Y_s\"]  # generated quantities で予測した値\n",
    "\n",
    "Y_p = fit[\"Y_s\"].T"
   ]
  },
  {
   "cell_type": "code",
   "execution_count": 22,
   "metadata": {},
   "outputs": [],
   "source": [
    "low_y, high_y = mstats.mquantiles(Y_p, [0.025,0.975], axis=0)  # バラつく可能性のある区間（95%信頼区間として）"
   ]
  },
  {
   "cell_type": "code",
   "execution_count": 23,
   "metadata": {},
   "outputs": [
    {
     "data": {
      "image/png": "[encoded data removed]",
      "text/plain": [
       "<Figure size 576x432 with 1 Axes>"
      ]
     },
     "metadata": {},
     "output_type": "display_data"
    }
   ],
   "source": [
    "plt.figure(figsize=(8,6))\n",
    "\n",
    "plt.scatter(df[\"space\"],df[\"value\"])\n",
    "plt.fill_between(X_s, low_y, high_y, alpha=0.3, color=\"gray\")\n",
    "\n",
    "# a = 77.66\n",
    "# b = -670.7\n",
    "a = 78.17\n",
    "b = -701.72\n",
    "y = a * X_s + b\n",
    "plt.plot(X_s, y, color =\"blue\");"
   ]
  },
  {
   "cell_type": "code",
   "execution_count": null,
   "metadata": {
    "collapsed": true,
    "jupyter": {
     "outputs_hidden": true
    }
   },
   "outputs": [],
   "source": []
  }
 ],
 "metadata": {
  "kernelspec": {
   "display_name": "Python 3 (ipykernel)",
   "language": "python",
   "name": "python3"
  },
  "language_info": {
   "codemirror_mode": {
    "name": "ipython",
    "version": 3
   },
   "file_extension": ".py",
   "mimetype": "text/x-python",
   "name": "python",
   "nbconvert_exporter": "python",
   "pygments_lexer": "ipython3",
   "version": "3.9.12"
  }
 },
 "nbformat": 4,
 "nbformat_minor": 4
}
