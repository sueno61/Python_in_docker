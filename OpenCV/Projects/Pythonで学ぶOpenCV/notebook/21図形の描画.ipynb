{
 "cells": [
  {
   "cell_type": "code",
   "execution_count": 2,
   "metadata": {},
   "outputs": [],
   "source": [
    "import cv2\n",
    "import numpy as np"
   ]
  },
  {
   "cell_type": "code",
   "execution_count": 3,
   "metadata": {},
   "outputs": [
    {
     "output_type": "execute_result",
     "data": {
      "text/plain": [
       "-1"
      ]
     },
     "metadata": {},
     "execution_count": 3
    }
   ],
   "source": [
    "img = np.ones((500,500,3)) * 255\n",
    "\n",
    "cv2.line(img, (0,0), (150,190), (255, 0, 0), 2)\n",
    "cv2.rectangle(img, (100,25), (300, 150), (0, 255, 0), 4)\n",
    "cv2.circle(img, (100,100), 55, (0, 0, 255), -1)\n",
    "cv2.ellipse(img, (250, 250), (100, 50), 20, 0, 360, (255, 0, 0), 1)\n",
    "\n",
    "pts = np.array([[100, 30], [200, 30], [200, 80], [100, 50]])\n",
    "cv2.polylines(img, [pts], False, (100, 255, 0), 3)\n",
    "\n",
    "font = cv2.FONT_HERSHEY_SIMPLEX\n",
    "cv2.putText(img, \"OpenCV\", (100, 300), font, 1, (0,255,0), lineType=cv2.LINE_AA)\n",
    "\n",
    "\n",
    "cv2.imshow(\"img\", img)\n",
    "cv2.waitKey(0)\n",
    "cv2.destroyAllWindows()\n",
    "\n",
    "cv2.waitKey(1)"
   ]
  },
  {
   "cell_type": "code",
   "execution_count": null,
   "metadata": {
    "collapsed": true
   },
   "outputs": [],
   "source": []
  }
 ],
 "metadata": {
  "kernelspec": {
   "name": "python3",
   "display_name": "Python 3.8.9 64-bit ('venv38': venv)"
  },
  "language_info": {
   "codemirror_mode": {
    "name": "ipython",
    "version": 3
   },
   "file_extension": ".py",
   "mimetype": "text/x-python",
   "name": "python",
   "nbconvert_exporter": "python",
   "pygments_lexer": "ipython3",
   "version": "3.8.9"
  },
  "interpreter": {
   "hash": "612220bb3664a8ccb8a6933f81bfd76090d6c317e393951597deb706a5cc3250"
  }
 },
 "nbformat": 4,
 "nbformat_minor": 2
}