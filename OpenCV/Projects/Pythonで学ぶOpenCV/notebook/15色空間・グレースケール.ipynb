{
 "cells": [
  {
   "cell_type": "code",
   "execution_count": 1,
   "metadata": {
    "collapsed": true
   },
   "outputs": [],
   "source": [
    "import cv2"
   ]
  },
  {
   "cell_type": "code",
   "execution_count": 3,
   "metadata": {},
   "outputs": [],
   "source": [
    "img = cv2.imread(\"src/grapes.jpg\")\n",
    "img_gray = cv2.cvtColor(img, cv2.COLOR_BGR2GRAY)\n",
    "img_hsv = cv2.cvtColor(img, cv2.COLOR_BGR2HSV)"
   ]
  },
  {
   "cell_type": "code",
   "execution_count": 4,
   "metadata": {},
   "outputs": [
    {
     "data": {
      "text/plain": [
       "(640, 960)"
      ]
     },
     "execution_count": 4,
     "metadata": {},
     "output_type": "execute_result"
    }
   ],
   "source": [
    "img_gray.shape"
   ]
  },
  {
   "cell_type": "code",
   "execution_count": 5,
   "metadata": {},
   "outputs": [
    {
     "data": {
      "text/plain": [
       "(640, 960, 3)"
      ]
     },
     "execution_count": 5,
     "metadata": {},
     "output_type": "execute_result"
    }
   ],
   "source": [
    "img_hsv.shape"
   ]
  },
  {
   "cell_type": "code",
   "execution_count": 6,
   "metadata": {
    "collapsed": true
   },
   "outputs": [],
   "source": [
    "cv2.imshow(\"img\", img)\n",
    "cv2.imshow(\"gray\", img_gray)\n",
    "cv2.waitKey(0)\n",
    "cv2.destroyAllWindows()"
   ]
  },
  {
   "cell_type": "code",
   "execution_count": 7,
   "metadata": {
    "collapsed": true
   },
   "outputs": [],
   "source": [
    "img_gray2 = cv2.imread(\"src/grapes.jpg\", 0)"
   ]
  },
  {
   "cell_type": "code",
   "execution_count": 8,
   "metadata": {
    "collapsed": true
   },
   "outputs": [],
   "source": [
    "cv2.imshow(\"gray\", img_gray2)\n",
    "cv2.waitKey(0)\n",
    "cv2.destroyAllWindows()"
   ]
  },
  {
   "cell_type": "code",
   "execution_count": 9,
   "metadata": {},
   "outputs": [
    {
     "data": {
      "text/plain": [
       "array([[[ 46, 145, 176],\n",
       "        [ 47, 144, 158],\n",
       "        [ 46, 119, 176],\n",
       "        ..., \n",
       "        [105, 145, 229],\n",
       "        [105, 139, 225],\n",
       "        [105, 140, 219]],\n",
       "\n",
       "       [[ 45, 188, 134],\n",
       "        [ 45, 191, 120],\n",
       "        [ 45, 158, 140],\n",
       "        ..., \n",
       "        [104, 168, 220],\n",
       "        [103, 165, 220],\n",
       "        [103, 166, 213]],\n",
       "\n",
       "       [[ 45, 197, 128],\n",
       "        [ 45, 206, 114],\n",
       "        [ 45, 191, 124],\n",
       "        ..., \n",
       "        [103, 187, 183],\n",
       "        [103, 180, 201],\n",
       "        [102, 180, 208]],\n",
       "\n",
       "       ..., \n",
       "       [[ 39, 249,  45],\n",
       "        [ 38, 255,  46],\n",
       "        [ 38, 250,  52],\n",
       "        ..., \n",
       "        [ 31, 116, 195],\n",
       "        [ 30, 113, 189],\n",
       "        [ 29, 114, 188]],\n",
       "\n",
       "       [[ 39, 255,  49],\n",
       "        [ 38, 250,  52],\n",
       "        [ 39, 234,  60],\n",
       "        ..., \n",
       "        [ 33, 111, 205],\n",
       "        [ 32, 106, 203],\n",
       "        [ 31, 111, 186]],\n",
       "\n",
       "       [[ 38, 250,  52],\n",
       "        [ 38, 233,  58],\n",
       "        [ 39, 218,  68],\n",
       "        ..., \n",
       "        [ 39, 110, 195],\n",
       "        [ 36, 104, 197],\n",
       "        [ 36,  97, 197]]], dtype=uint8)"
      ]
     },
     "execution_count": 9,
     "metadata": {},
     "output_type": "execute_result"
    }
   ],
   "source": [
    "img_hsv"
   ]
  },
  {
   "cell_type": "code",
   "execution_count": null,
   "metadata": {
    "collapsed": true
   },
   "outputs": [],
   "source": []
  }
 ],
 "metadata": {
  "kernelspec": {
   "display_name": "Python 3",
   "language": "python",
   "name": "python3"
  },
  "language_info": {
   "codemirror_mode": {
    "name": "ipython",
    "version": 3
   },
   "file_extension": ".py",
   "mimetype": "text/x-python",
   "name": "python",
   "nbconvert_exporter": "python",
   "pygments_lexer": "ipython3",
   "version": "3.5.4"
  }
 },
 "nbformat": 4,
 "nbformat_minor": 2
}
